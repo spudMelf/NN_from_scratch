{
 "cells": [
  {
   "cell_type": "code",
   "execution_count": 1,
   "id": "a759a39d",
   "metadata": {},
   "outputs": [],
   "source": [
    "import numpy as np"
   ]
  },
  {
   "cell_type": "code",
   "execution_count": null,
   "id": "a0c906dc",
   "metadata": {},
   "outputs": [],
   "source": [
    "class MM:\n",
    "    def __init__(self, in_dim, out_dim):\n",
    "        self.in_dim = in_dim\n",
    "        self.out_dim = out_dim\n",
    "        \n",
    "        self.W = np.random.rand(self.out_dim, self.in_dim)\n",
    "        self.b = np.random.rand(out_dim, 1)\n",
    "\n",
    "        self.layer_type = \"MM\"\n",
    "\n",
    "    def forward(self, z):\n",
    "        return np.matmul(self.W, z) + self.b\n",
    "    \n",
    "    def backward(self, v):\n",
    "        return np.matmul(self.W.T, v)\n",
    "    \n",
    "    def update_w_b(self, z, v, lr):\n",
    "        dw = np.matmul(v, z.T)\n",
    "        db = v\n",
    "\n",
    "        self.W = self.W - (lr * dw)\n",
    "        self.b = self.b - (lr * db)"
   ]
  },
  {
   "cell_type": "code",
   "execution_count": null,
   "id": "6103cba5",
   "metadata": {},
   "outputs": [],
   "source": [
    "class ReLU:\n",
    "    def __init__(self, in_dim):\n",
    "        self.in_dim = in_dim\n",
    "        self.layer_type = \"ReLU\"\n",
    "\n",
    "    def forward(self, z):\n",
    "        return np.maximum(z, 0)\n",
    "    \n",
    "    def backward(self, z, v):\n",
    "        dz = np.zeros(z.shape)\n",
    "        for i in range(z.shape[0]):\n",
    "            if(z[i, 0] > 0):\n",
    "                dz[i, 0] = v[i, 0]\n",
    "        \n",
    "        return dz\n",
    "        "
   ]
  },
  {
   "cell_type": "code",
   "execution_count": null,
   "id": "fa16748e",
   "metadata": {},
   "outputs": [],
   "source": [
    "def softmax(z):\n",
    "    e_z = np.exp(z - np.max(z))  # for numerical stability\n",
    "    return e_z / np.sum(e_z)"
   ]
  },
  {
   "cell_type": "code",
   "execution_count": 46,
   "id": "4fcf8897",
   "metadata": {},
   "outputs": [],
   "source": [
    "class CE_loss:\n",
    "    def __init__(self, in_dim):\n",
    "        self.in_dim = in_dim\n",
    "\n",
    "    def forward(self, z, y):\n",
    "        SM_z = softmax(z)\n",
    "\n",
    "        J = 0\n",
    "        for i in range(self.in_dim):\n",
    "            J -= int(y[i, 0] == 1) * np.log(SM_z[i, 0])\n",
    "        \n",
    "        return J\n",
    "    \n",
    "    def backward(self, z, y):\n",
    "        return softmax(z) - y"
   ]
  },
  {
   "cell_type": "code",
   "execution_count": 1,
   "id": "e4b5ab01",
   "metadata": {},
   "outputs": [],
   "source": [
    "class NN:\n",
    "    def __init__(self, layers, loss, lr):\n",
    "        self.layers = layers\n",
    "        self.loss = loss\n",
    "        self.lr = lr\n",
    "\n",
    "    def train(self, x, y):\n",
    "        outputs = [x]\n",
    "        for layer in self.layers:\n",
    "            outputs.append(layer.forward(outputs[-1]))\n",
    "        \n",
    "        J = self.loss.forward(outputs[-1], y)\n",
    "\n",
    "        backwards = [self.loss.backward(outputs[-1], y)]\n",
    "        self.layers[-1].update_w_b(outputs[-2], backwards[-1], self.lr)\n",
    "\n",
    "        for i in range(len(self.layers) - 2, -1, -1):\n",
    "            layer = self.layers[i]\n",
    "            \n",
    "            if layer.layer_type == \"MM\":\n",
    "                backwards.append(layer.backward(backwards[-1]))\n",
    "                layer.update_w_b(outputs[i], backwards[-1], self.lr)\n",
    "            \n",
    "            if layer.layer_type == \"ReLU\":\n",
    "                backwards.append(layer.backward(outputs[i - 1], backwards[-1]))\n",
    "\n",
    "        return J"
   ]
  },
  {
   "cell_type": "code",
   "execution_count": null,
   "id": "a9916b66",
   "metadata": {},
   "outputs": [],
   "source": []
  }
 ],
 "metadata": {
  "kernelspec": {
   "display_name": "NN_from_scratch",
   "language": "python",
   "name": "python3"
  },
  "language_info": {
   "codemirror_mode": {
    "name": "ipython",
    "version": 3
   },
   "file_extension": ".py",
   "mimetype": "text/x-python",
   "name": "python",
   "nbconvert_exporter": "python",
   "pygments_lexer": "ipython3",
   "version": "3.10.1"
  }
 },
 "nbformat": 4,
 "nbformat_minor": 5
}
